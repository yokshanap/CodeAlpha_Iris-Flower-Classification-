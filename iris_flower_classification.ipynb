{
  "nbformat": 4,
  "nbformat_minor": 0,
  "metadata": {
    "colab": {
      "private_outputs": true,
      "provenance": []
    },
    "kernelspec": {
      "name": "python3",
      "display_name": "Python 3"
    },
    "language_info": {
      "name": "python"
    }
  },
  "cells": [
    {
      "cell_type": "code",
      "execution_count": null,
      "metadata": {
        "id": "T3-3Dat4RyHC"
      },
      "outputs": [],
      "source": [
        "import pandas as pd\n",
        "import numpy as np\n",
        "import matplotlib.pyplot as plt\n",
        "from mpl_toolkits.mplot3d import Axes3D\n",
        "from sklearn.datasets import load_iris\n",
        "from sklearn.model_selection import train_test_split\n",
        "from sklearn.ensemble import RandomForestClassifier\n",
        "from sklearn.metrics import accuracy_score, classification_report\n",
        "\n"
      ]
    },
    {
      "cell_type": "code",
      "source": [
        "# Load dataset\n",
        "iris = load_iris()\n",
        "\n",
        "# Create DataFrame for easy viewing\n",
        "df = pd.DataFrame(iris.data, columns=iris.feature_names)\n",
        "df['species'] = iris.target\n",
        "df['species'] = df['species'].map({0: 'setosa', 1: 'versicolor', 2: 'virginica'})\n",
        "\n",
        "print(df.head())\n"
      ],
      "metadata": {
        "id": "y-ABMNlMR0CJ"
      },
      "execution_count": null,
      "outputs": []
    },
    {
      "cell_type": "code",
      "source": [
        "X = iris.data  # Features\n",
        "y = iris.target  # Labels\n",
        "\n",
        "X_train, X_test, y_train, y_test = train_test_split(\n",
        "    X, y, test_size=0.2, random_state=42\n",
        ")\n"
      ],
      "metadata": {
        "id": "7LZCpiiMSDR8"
      },
      "execution_count": null,
      "outputs": []
    },
    {
      "cell_type": "code",
      "source": [
        "model = RandomForestClassifier(n_estimators=100, random_state=42)\n",
        "model.fit(X_train, y_train)\n"
      ],
      "metadata": {
        "id": "DSq3JLp2SGfM"
      },
      "execution_count": null,
      "outputs": []
    },
    {
      "cell_type": "code",
      "source": [
        "y_pred = model.predict(X_test)\n"
      ],
      "metadata": {
        "id": "Atga3YsFSL2u"
      },
      "execution_count": null,
      "outputs": []
    },
    {
      "cell_type": "code",
      "source": [
        "sample = np.array([[5.1, 3.5, 1.4, 0.2]])  # Example measurements\n",
        "prediction = model.predict(sample)\n",
        "print(f\"Predicted Species: {iris.target_names[prediction][0]}\")\n"
      ],
      "metadata": {
        "id": "F1LazPxzSVyv"
      },
      "execution_count": null,
      "outputs": []
    },
    {
      "cell_type": "code",
      "source": [
        "plt.figure(figsize=(8, 6))\n",
        "for species, color in zip(['setosa', 'versicolor', 'virginica'], ['red', 'green', 'blue']):\n",
        "    subset = df[df['species'] == species]\n",
        "    plt.scatter(subset['petal length (cm)'], subset['petal width (cm)'],\n",
        "                label=species, color=color, alpha=0.7)\n",
        "\n",
        "plt.xlabel('Petal Length (cm)')\n",
        "plt.ylabel('Petal Width (cm)')\n",
        "plt.title('Iris Petal Dimensions')\n",
        "plt.legend()\n",
        "plt.show()\n"
      ],
      "metadata": {
        "id": "RBe3ORk7Sj87"
      },
      "execution_count": null,
      "outputs": []
    },
    {
      "cell_type": "code",
      "source": [
        "fig = plt.figure(figsize=(8, 6))\n",
        "ax = fig.add_subplot(111, projection='3d')\n",
        "\n",
        "colors = ['red', 'green', 'blue']\n",
        "for species, color in zip(['setosa', 'versicolor', 'virginica'], colors):\n",
        "    subset = df[df['species'] == species]\n",
        "    ax.scatter(subset['sepal length (cm)'],\n",
        "               subset['sepal width (cm)'],\n",
        "               subset['petal length (cm)'],\n",
        "               label=species, color=color, alpha=0.7)\n",
        "\n",
        "ax.set_xlabel('Sepal Length (cm)')\n",
        "ax.set_ylabel('Sepal Width (cm)')\n",
        "ax.set_zlabel('Petal Length (cm)')\n",
        "ax.set_title('3D Visualization of Iris Dataset')\n",
        "ax.legend()\n",
        "plt.show()\n"
      ],
      "metadata": {
        "id": "2R7tNwZmS-Qi"
      },
      "execution_count": null,
      "outputs": []
    },
    {
      "cell_type": "code",
      "source": [
        "# Features & target\n",
        "X = iris.data\n",
        "y = iris.target\n",
        "\n",
        "# Train-test split\n",
        "X_train, X_test, y_train, y_test = train_test_split(\n",
        "    X, y, test_size=0.2, random_state=42\n",
        ")\n",
        "\n",
        "# Train model\n",
        "model = RandomForestClassifier(n_estimators=100, random_state=42)\n",
        "model.fit(X_train, y_train)\n",
        "\n",
        "# Predict\n",
        "y_pred = model.predict(X_test)\n",
        "\n",
        "# Accuracy & report\n",
        "print(f\"Model Accuracy: {accuracy_score(y_test, y_pred)*100:.2f}%\")\n",
        "print(\"\\nClassification Report:\")\n",
        "print(classification_report(y_test, y_pred, target_names=iris.target_names))\n"
      ],
      "metadata": {
        "id": "UVHkradQTIdW"
      },
      "execution_count": null,
      "outputs": []
    }
  ]
}